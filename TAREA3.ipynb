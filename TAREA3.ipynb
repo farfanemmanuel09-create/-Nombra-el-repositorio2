{
  "nbformat": 4,
  "nbformat_minor": 0,
  "metadata": {
    "colab": {
      "provenance": [],
      "authorship_tag": "ABX9TyPWIjWhER90Da3U0ZDMkxCr",
      "include_colab_link": true
    },
    "kernelspec": {
      "name": "python3",
      "display_name": "Python 3"
    },
    "language_info": {
      "name": "python"
    }
  },
  "cells": [
    {
      "cell_type": "markdown",
      "metadata": {
        "id": "view-in-github",
        "colab_type": "text"
      },
      "source": [
        "<a href=\"https://colab.research.google.com/github/farfanemmanuel09-create/-Nombra-el-repositorio2/blob/main/TAREA3.ipynb\" target=\"_parent\"><img src=\"https://colab.research.google.com/assets/colab-badge.svg\" alt=\"Open In Colab\"/></a>"
      ]
    },
    {
      "cell_type": "code",
      "execution_count": 1,
      "metadata": {
        "colab": {
          "base_uri": "https://localhost:8080/"
        },
        "id": "dufwFWKAzG8U",
        "outputId": "207971da-fa71-405a-9bd3-171184e0d1ae"
      },
      "outputs": [
        {
          "output_type": "stream",
          "name": "stdout",
          "text": [
            "a = True\n",
            "b = False\n",
            "NOT a = False\n",
            "NOT b = True\n",
            "NOT (a AND b) = True\n"
          ]
        }
      ],
      "source": [
        "# Ejemplo de la operación lógica NOT\n",
        "\n",
        "# Definimos algunas variables booleanas\n",
        "a = True\n",
        "b = False\n",
        "\n",
        "# Aplicamos la operación NOT\n",
        "resultado1 = not a\n",
        "resultado2 = not b\n",
        "resultado3 = not (a and b)  # combinación extra: niega el resultado de una operación AND\n",
        "\n",
        "# Mostramos los resultados\n",
        "print(\"a =\", a)\n",
        "print(\"b =\", b)\n",
        "print(\"NOT a =\", resultado1)\n",
        "print(\"NOT b =\", resultado2)\n",
        "print(\"NOT (a AND b) =\", resultado3)\n"
      ]
    },
    {
      "cell_type": "markdown",
      "source": [
        "# El código muestra cómo funciona la operación lógica NOT, que significa “NO” en español.\n",
        "El NOT sirve para negar o invertir un valor lógico:\n",
        "\n",
        "Si algo es verdadero (True) → se vuelve falso (False)\n",
        "\n",
        "Si algo es falso (False) → se vuelve verdadero (True)"
      ],
      "metadata": {
        "id": "UtV1taq-z5oE"
      }
    }
  ]
}