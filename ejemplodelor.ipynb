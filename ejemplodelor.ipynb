{
  "nbformat": 4,
  "nbformat_minor": 0,
  "metadata": {
    "colab": {
      "provenance": [],
      "authorship_tag": "ABX9TyO3nBoIQDbP62os/LKhQ349",
      "include_colab_link": true
    },
    "kernelspec": {
      "name": "python3",
      "display_name": "Python 3"
    },
    "language_info": {
      "name": "python"
    }
  },
  "cells": [
    {
      "cell_type": "markdown",
      "metadata": {
        "id": "view-in-github",
        "colab_type": "text"
      },
      "source": [
        "<a href=\"https://colab.research.google.com/github/farfanemmanuel09-create/-Nombra-el-repositorio2/blob/main/ejemplodelor.ipynb\" target=\"_parent\"><img src=\"https://colab.research.google.com/assets/colab-badge.svg\" alt=\"Open In Colab\"/></a>"
      ]
    },
    {
      "cell_type": "code",
      "execution_count": 1,
      "metadata": {
        "colab": {
          "base_uri": "https://localhost:8080/"
        },
        "id": "tsN7JhsDsPbd",
        "outputId": "fea2efee-8cc1-4901-9310-7fcad743adf0"
      },
      "outputs": [
        {
          "output_type": "stream",
          "name": "stdout",
          "text": [
            "a = True\n",
            "b = False\n",
            "a OR b = True\n",
            "a OR True = True\n",
            "False OR b = False\n",
            "False OR False = False\n"
          ]
        }
      ],
      "source": [
        "# Ejemplo de la operación lógica OR\n",
        "\n",
        "# Definimos algunas variables booleanas\n",
        "a = True\n",
        "b = False\n",
        "\n",
        "# Aplicamos la operación OR\n",
        "resultado1 = a or b\n",
        "resultado2 = a or True\n",
        "resultado3 = False or b\n",
        "resultado4 = False or False\n",
        "\n",
        "# Mostramos los resultados\n",
        "print(\"a =\", a)\n",
        "print(\"b =\", b)\n",
        "print(\"a OR b =\", resultado1)\n",
        "print(\"a OR True =\", resultado2)\n",
        "print(\"False OR b =\", resultado3)\n",
        "print(\"False OR False =\", resultado4)\n"
      ]
    },
    {
      "cell_type": "markdown",
      "source": [
        "#El código compara valores verdaderos y falsos usando el operador OR (O) y te enseña qué resultado da en cada caso."
      ],
      "metadata": {
        "id": "4-8UdOK9w9vO"
      }
    }
  ]
}